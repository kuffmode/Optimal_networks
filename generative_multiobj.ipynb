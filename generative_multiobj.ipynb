{
 "cells": [
  {
   "cell_type": "code",
   "execution_count": 1,
   "metadata": {},
   "outputs": [],
   "source": [
    "%load_ext autoreload\n",
    "%autoreload 2"
   ]
  },
  {
   "cell_type": "code",
   "execution_count": 2,
   "metadata": {},
   "outputs": [
    {
     "name": "stderr",
     "output_type": "stream",
     "text": [
      "/Users/kf02/Library/Mobile Documents/com~apple~CloudDocs/Work/Optimal_networks/.venv/lib/python3.11/site-packages/tqdm_joblib/__init__.py:4: TqdmExperimentalWarning: Using `tqdm.autonotebook.tqdm` in notebook mode. Use `tqdm.tqdm` instead to force console mode (e.g. in jupyter console)\n",
      "  from tqdm.autonotebook import tqdm\n"
     ]
    }
   ],
   "source": [
    "import generative as gen\n",
    "import numpy as np\n",
    "import matplotlib.pyplot as plt\n",
    "import networkx as nx\n",
    "from tqdm import tqdm\n",
    "from scipy.spatial.distance import pdist, squareform\n",
    "import utils as ut\n",
    "import seaborn as sns\n",
    "from vizman import viz\n",
    "from scipy import io\n",
    "import pandas as pd\n",
    "from neuromaps.datasets import fetch_fslr\n",
    "from surfplot import Plot\n",
    "from netneurotools.networks import struct_consensus\n"
   ]
  },
  {
   "cell_type": "code",
   "execution_count": 3,
   "metadata": {},
   "outputs": [],
   "source": [
    "viz.set_visual_style()\n",
    "viz_sizes = viz.load_data_from_json(\"sizes.json\")\n",
    "viz_colors = viz.load_data_from_json(\"colors.json\")\n",
    "viz_cmaps = viz.give_colormaps()\n",
    "sns_kwargs = {\"cmap\": viz_cmaps[\"bw_lr\"],\n",
    "              \"xticklabels\":False,\n",
    "              \"yticklabels\":False,\n",
    "              \"rasterized\":True}\n",
    "\n",
    "surfcolors = sns.blend_palette([\n",
    "                                viz_colors[\"neutrals\"][\"ALL_WHITE\"],\n",
    "                                viz_colors[\"warms\"][\"LECKER_RED\"]],\n",
    "                                     as_cmap=True)"
   ]
  },
  {
   "cell_type": "code",
   "execution_count": 4,
   "metadata": {},
   "outputs": [],
   "source": [
    "res_parcellation = 1\n",
    "consensus_mat = io.loadmat(\n",
    "    \"datasets/human/Consensus_Connectomes.mat\",\n",
    "    simplify_cells=True,\n",
    "    squeeze_me=True,\n",
    "    chars_as_strings=True,\n",
    ")\n",
    "connectivity = consensus_mat[\"LauConsensus\"][\"Matrices\"][res_parcellation][0].astype(bool)\n",
    "coordinates = consensus_mat[\"LauConsensus\"][\"Matrices\"][res_parcellation][3]\n",
    "labels = consensus_mat[\"LauConsensus\"][\"Matrices\"][res_parcellation][-1]\n",
    "euclidean_dis = squareform(pdist(coordinates, metric='euclidean'))\n",
    "all_connectivities = io.loadmat(\n",
    "    \"datasets/human/Individual_Connectomes.mat\",\n",
    "    simplify_cells=True,\n",
    "    squeeze_me=True,\n",
    "    chars_as_strings=True,\n",
    ")['connMatrices']['SC'][res_parcellation].astype(bool)"
   ]
  },
  {
   "cell_type": "code",
   "execution_count": 5,
   "metadata": {},
   "outputs": [],
   "source": [
    "n_iterations = 3000\n",
    "n_nodes = labels.shape[0]\n",
    "beta = np.full(n_iterations, 1)\n",
    "noise = np.zeros(n_iterations)\n",
    "penalty = np.zeros(n_iterations)\n",
    "batch_size = np.full(n_iterations, 18)"
   ]
  },
  {
   "cell_type": "code",
   "execution_count": 36,
   "metadata": {},
   "outputs": [
    {
     "name": "stderr",
     "output_type": "stream",
     "text": [
      "Simulating network evolution: 100%|██████████| 2999/2999 [01:00<00:00, 49.78it/s]\n"
     ]
    }
   ],
   "source": [
    "non_normalized_diffusion_matrices = gen.simulate_network_evolution(\n",
    "        coordinates=coordinates,\n",
    "        n_iterations=n_iterations,\n",
    "        alpha=np.full(n_iterations, 8),\n",
    "        beta=np.full(n_iterations, 1),\n",
    "        noise=noise,\n",
    "        distance_fn=gen.resistance_distance,\n",
    "        connectivity_penalty=penalty,\n",
    "        n_jobs=-1,\n",
    "        random_seed=11,\n",
    "        batch_size=batch_size,\n",
    "    )\n"
   ]
  },
  {
   "cell_type": "code",
   "execution_count": 37,
   "metadata": {},
   "outputs": [
    {
     "data": {
      "text/plain": [
       "(0.20276354603322466, 0.19251668995497592)"
      ]
     },
     "execution_count": 37,
     "metadata": {},
     "output_type": "execute_result"
    }
   ],
   "source": [
    "ut.check_density(connectivity), ut.check_density(non_normalized_diffusion_matrices[:,:,-1])"
   ]
  },
  {
   "cell_type": "code",
   "execution_count": 38,
   "metadata": {},
   "outputs": [
    {
     "data": {
      "text/plain": [
       "0.01024685607824874"
      ]
     },
     "execution_count": 38,
     "metadata": {},
     "output_type": "execute_result"
    }
   ],
   "source": [
    "ut.check_density(connectivity)-ut.check_density(non_normalized_diffusion_matrices[:,:,-1])"
   ]
  },
  {
   "cell_type": "code",
   "execution_count": null,
   "metadata": {},
   "outputs": [],
   "source": []
  }
 ],
 "metadata": {
  "kernelspec": {
   "display_name": ".venv",
   "language": "python",
   "name": "python3"
  },
  "language_info": {
   "codemirror_mode": {
    "name": "ipython",
    "version": 3
   },
   "file_extension": ".py",
   "mimetype": "text/x-python",
   "name": "python",
   "nbconvert_exporter": "python",
   "pygments_lexer": "ipython3",
   "version": "3.11.11"
  }
 },
 "nbformat": 4,
 "nbformat_minor": 2
}
